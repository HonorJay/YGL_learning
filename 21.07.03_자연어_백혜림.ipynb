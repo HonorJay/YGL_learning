{
 "cells": [
  {
   "cell_type": "code",
   "execution_count": 1,
   "id": "4bfaf958",
   "metadata": {},
   "outputs": [],
   "source": [
    "import re"
   ]
  },
  {
   "cell_type": "markdown",
   "id": "f08ff01a",
   "metadata": {},
   "source": [
    "## 노이즈 유형(1) 문장부호\n",
    "* 문장 부호 양쪽에 공백을 추가하는 방법"
   ]
  },
  {
   "cell_type": "code",
   "execution_count": 2,
   "id": "d2c1f366",
   "metadata": {},
   "outputs": [
    {
     "name": "stdout",
     "output_type": "stream",
     "text": [
      "Hi ,  my name is john . \n"
     ]
    }
   ],
   "source": [
    "def pad_punctuation(sentence, punc):\n",
    "    for p in punc:\n",
    "        sentence = sentence.replace(p, \" \" + p + \" \")\n",
    "        \n",
    "    return sentence\n",
    "\n",
    "sentence = \"Hi, my name is john.\"\n",
    "\n",
    "print(pad_punctuation(sentence, [\".\", \"?\", \"!\", \",\"]))"
   ]
  },
  {
   "cell_type": "markdown",
   "id": "4ce631d5",
   "metadata": {},
   "source": [
    "## 노이즈 유형(2) 대소문자\n",
    "* 모든 단어를 소문자로 바꾸는 방법"
   ]
  },
  {
   "cell_type": "code",
   "execution_count": 3,
   "id": "c4ae0017",
   "metadata": {},
   "outputs": [
    {
     "name": "stdout",
     "output_type": "stream",
     "text": [
      "first, open the first chapter.\n"
     ]
    }
   ],
   "source": [
    "sentence = \"First, open the first chapter.\"\n",
    "\n",
    "print(sentence.lower())"
   ]
  },
  {
   "cell_type": "code",
   "execution_count": 4,
   "id": "3fbedf37",
   "metadata": {},
   "outputs": [
    {
     "name": "stdout",
     "output_type": "stream",
     "text": [
      "FIRST, OPEN THE FIRST CHAPTER.\n"
     ]
    }
   ],
   "source": [
    "sentence = \"First, open the first chapter.\"\n",
    "\n",
    "print(sentence.upper())"
   ]
  },
  {
   "cell_type": "markdown",
   "id": "4608eb47",
   "metadata": {},
   "source": [
    "## 노이즈 유형(3) 특수문자\n",
    "* 사용할 알파벳과 기호들을 정의해 이를 제외하고 모두 제거"
   ]
  },
  {
   "cell_type": "code",
   "execution_count": 5,
   "id": "9450be0d",
   "metadata": {},
   "outputs": [
    {
     "name": "stdout",
     "output_type": "stream",
     "text": [
      "He is a ten year old boy.\n"
     ]
    }
   ],
   "source": [
    "import re\n",
    "\n",
    "sentence = \"He is a ten-year-old boy.\"\n",
    "sentence = re.sub(\"([^a-zA-Z.,?!])\", \" \", sentence)\n",
    "print(sentence)"
   ]
  },
  {
   "cell_type": "code",
   "execution_count": 6,
   "id": "a4f775f8",
   "metadata": {},
   "outputs": [],
   "source": [
    "corpus = \\\n",
    "\"\"\"\n",
    "It is with a kind of fear that I begin to write the history of my life. I have, as it were, a superstitious hesitation in lifting the veil that clings about my childhood like a golden mist. The task of writing an autobiography is a difficult one. When I try to classify my earliest impressions, I find that fact and fancy look alike across the years that link the past with the present. The woman paints the child's experiences in her own fantasy. A few impressions stand out vividly from the first years of my life; but \"the shadows of the prison-house are on the rest.\" Besides, many of the joys and sorrows of childhood have lost their poignancy; and many incidents of vital importance in my early education have been forgotten in the excitement of great discoveries. In order, therefore, not to be tedious I shall try to present in a series of sketches only the episodes that seem to me to be the most interesting and important.\n",
    "\n",
    "I was born on June 27, 1880, in Tuscumbia, a little town of northern Alabama.\n",
    "\n",
    "The family on my father's side is descended from Caspar Keller, a native of Switzerland, who settled in Maryland. One of my Swiss ancestors was the first teacher of the deaf in Zurich and wrote a book on the subject of their education—rather a singular coincidence; though it is true that there is no king who has not had a slave among his ancestors, and no slave who has not had a king among his.\n",
    "\n",
    "My grandfather, Caspar Keller's son, \"entered\" large tracts of land in Alabama and finally settled there. I have been told that once a year he went from Tuscumbia to Philadelphia on horseback to purchase supplies for the plantation, and my aunt has in her possession many of the letters to his family, which give charming and vivid accounts of these trips.\n",
    "\n",
    "My Grandmother Keller was a daughter of one of Lafayette's aides, Alexander Moore, and granddaughter of Alexander Spotswood, an early Colonial Governor of Virginia. She was also second cousin to Robert E. Lee.\n",
    "\n",
    "My father, Arthur H. Keller, was a captain in the Confederate Army, and my mother, Kate Adams, was his second wife and many years younger. Her grandfather, Benjamin Adams, married Susanna E. Goodhue, and lived in Newbury, Massachusetts, for many years. Their son, Charles Adams, was born in Newburyport, Massachusetts, and moved to Helena, Arkansas. When the Civil War broke out, he fought on the side of the South and became a brigadier-general. He married Lucy Helen Everett, who belonged to the same family of Everetts as Edward Everett and Dr. Edward Everett Hale. After the war was over the family moved to Memphis, Tennessee.\n",
    "\n",
    "I lived, up to the time of the illness that deprived me of my sight and hearing, in a tiny house consisting of a large square room and a small one, in which the servant slept. It is a custom in the South to build a small house near the homestead as an annex to be used on occasion. Such a house my father built after the Civil War, and when he married my mother they went to live in it. It was completely covered with vines, climbing roses and honeysuckles. From the garden it looked like an arbour. The little porch was hidden from view by a screen of yellow roses and Southern smilax. It was the favourite haunt of humming-birds and bees.\n",
    "\n",
    "The Keller homestead, where the family lived, was a few steps from our little rose-bower. It was called \"Ivy Green\" because the house and the surrounding trees and fences were covered with beautiful English ivy. Its old-fashioned garden was the paradise of my childhood.\n",
    "\n",
    "Even in the days before my teacher came, I used to feel along the square stiff boxwood hedges, and, guided by the sense of smell would find the first violets and lilies. There, too, after a fit of temper, I went to find comfort and to hide my hot face in the cool leaves and grass. What joy it was to lose myself in that garden of flowers, to wander happily from spot to spot, until, coming suddenly upon a beautiful vine, I recognized it by its leaves and blossoms, and knew it was the vine which covered the tumble-down summer-house at the farther end of the garden! Here, also, were trailing clematis, drooping jessamine, and some rare sweet flowers called butterfly lilies, because their fragile petals resemble butterflies' wings. But the roses—they were loveliest of all. Never have I found in the greenhouses of the North such heart-satisfying roses as the climbing roses of my southern home. They used to hang in long festoons from our porch, filling the whole air with their fragrance, untainted by any earthy smell; and in the early morning, washed in the dew, they felt so soft, so pure, I could not help wondering if they did not resemble the asphodels of God's garden.\n",
    "\n",
    "The beginning of my life was simple and much like every other little life. I came, I saw, I conquered, as the first baby in the family always does. There was the usual amount of discussion as to a name for me. The first baby in the family was not to be lightly named, every one was emphatic about that. My father suggested the name of Mildred Campbell, an ancestor whom he highly esteemed, and he declined to take any further part in the discussion. My mother solved the problem by giving it as her wish that I should be called after her mother, whose maiden name was Helen Everett. But in the excitement of carrying me to church my father lost the name on the way, very naturally, since it was one in which he had declined to have a part. When the minister asked him for it, he just remembered that it had been decided to call me after my grandmother, and he gave her name as Helen Adams.\n",
    "\n",
    "I am told that while I was still in long dresses I showed many signs of an eager, self-asserting disposition. Everything that I saw other people do I insisted upon imitating. At six months I could pipe out \"How d'ye,\" and one day I attracted every one's attention by saying \"Tea, tea, tea\" quite plainly. Even after my illness I remembered one of the words I had learned in these early months. It was the word \"water,\" and I continued to make some sound for that word after all other speech was lost. I ceased making the sound \"wah-wah\" only when I learned to spell the word.\n",
    "\n",
    "They tell me I walked the day I was a year old. My mother had just taken me out of the bath-tub and was holding me in her lap, when I was suddenly attracted by the flickering shadows of leaves that danced in the sunlight on the smooth floor. I slipped from my mother's lap and almost ran toward them. The impulse gone, I fell down and cried for her to take me up in her arms.\n",
    "\n",
    "These happy days did not last long. One brief spring, musical with the song of robin and mocking-bird, one summer rich in fruit and roses, one autumn of gold and crimson sped by and left their gifts at the feet of an eager, delighted child. Then, in the dreary month of February, came the illness which closed my eyes and ears and plunged me into the unconsciousness of a new-born baby. They called it acute congestion of the stomach and brain. The doctor thought I could not live. Early one morning, however, the fever left me as suddenly and mysteriously as it had come. There was great rejoicing in the family that morning, but no one, not even the doctor, knew that I should never see or hear again.\n",
    "\n",
    "I fancy I still have confused recollections of that illness. I especially remember the tenderness with which my mother tried to soothe me in my waling hours of fret and pain, and the agony and bewilderment with which I awoke after a tossing half sleep, and turned my eyes, so dry and hot, to the wall away from the once-loved light, which came to me dim and yet more dim each day. But, except for these fleeting memories, if, indeed, they be memories, it all seems very unreal, like a nightmare. Gradually I got used to the silence and darkness that surrounded me and forgot that it had ever been different, until she came—my teacher—who was to set my spirit free. But during the first nineteen months of my life I had caught glimpses of broad, green fields, a luminous sky, trees and flowers which the darkness that followed could not wholly blot out. If we have once seen, \"the day is ours, and what the day has shown.\"\n",
    "\"\"\""
   ]
  },
  {
   "cell_type": "code",
   "execution_count": 7,
   "id": "76f782fd",
   "metadata": {},
   "outputs": [],
   "source": [
    "def cleaning_text(text, punc, regex):\n",
    "    for p in punc:\n",
    "        text = text.replace(p, \" \" + p + \" \")\n",
    "        \n",
    "    text = text.lower()\n",
    "    \n",
    "    text = re.sub(regex, \" \", text)\n",
    "    \n",
    "    return text"
   ]
  },
  {
   "cell_type": "code",
   "execution_count": 8,
   "id": "8a2c2afe",
   "metadata": {},
   "outputs": [
    {
     "name": "stdout",
     "output_type": "stream",
     "text": [
      "\n",
      "it is with a kind of fear that i begin to write the history of my life .  i have ,  as it were ,  a superstitious hesitation in lifting the veil that clings about my childhood like a golden mist .  the task of writing an autobiography is a difficult one .  when i try to classify my earliest impressions ,  i find that fact and fancy look alike across the years that link the past with the present .  the woman paints the child s experiences in her own fantasy .  a few impressions stand out vividly from the first years of my life  but  the shadows of the prison house are on the rest .   besides ,  many of the joys and sorrows of childhood have lost their poignancy  and many incidents of vital importance in my early education have been forgotten in the excitement of great discoveries .  in order ,  therefore ,  not to be tedious i shall try to present in a series of sketches only the episodes that seem to me to be the most interesting and important . \n",
      "\n",
      "i was born on june 27 ,  1880 ,  in tuscumbia ,  a little town of northern alabama . \n",
      "\n",
      "the family on my father s side is descended from caspar keller ,  a native of switzerland ,  who settled in maryland .  one of my swiss ancestors was the first teacher of the deaf in zurich and wrote a book on the subject of their education rather a singular coincidence  though it is true that there is no king who has not had a slave among his ancestors ,  and no slave who has not had a king among his . \n",
      "\n",
      "my grandfather ,  caspar keller s son ,   entered  large tracts of land in alabama and finally settled there .  i have been told that once a year he went from tuscumbia to philadelphia on horseback to purchase supplies for the plantation ,  and my aunt has in her possession many of the letters to his family ,  which give charming and vivid accounts of these trips . \n",
      "\n",
      "my grandmother keller was a daughter of one of lafayette s aides ,  alexander moore ,  and granddaughter of alexander spotswood ,  an early colonial governor of virginia .  she was also second cousin to robert e .  lee . \n",
      "\n",
      "my father ,  arthur h .  keller ,  was a captain in the confederate army ,  and my mother ,  kate adams ,  was his second wife and many years younger .  her grandfather ,  benjamin adams ,  married susanna e .  goodhue ,  and lived in newbury ,  massachusetts ,  for many years .  their son ,  charles adams ,  was born in newburyport ,  massachusetts ,  and moved to helena ,  arkansas .  when the civil war broke out ,  he fought on the side of the south and became a brigadier general .  he married lucy helen everett ,  who belonged to the same family of everetts as edward everett and dr .  edward everett hale .  after the war was over the family moved to memphis ,  tennessee . \n",
      "\n",
      "i lived ,  up to the time of the illness that deprived me of my sight and hearing ,  in a tiny house consisting of a large square room and a small one ,  in which the servant slept .  it is a custom in the south to build a small house near the homestead as an annex to be used on occasion .  such a house my father built after the civil war ,  and when he married my mother they went to live in it .  it was completely covered with vines ,  climbing roses and honeysuckles .  from the garden it looked like an arbour .  the little porch was hidden from view by a screen of yellow roses and southern smilax .  it was the favourite haunt of humming birds and bees . \n",
      "\n",
      "the keller homestead ,  where the family lived ,  was a few steps from our little rose bower .  it was called  ivy green  because the house and the surrounding trees and fences were covered with beautiful english ivy .  its old fashioned garden was the paradise of my childhood . \n",
      "\n",
      "even in the days before my teacher came ,  i used to feel along the square stiff boxwood hedges ,  and ,  guided by the sense of smell would find the first violets and lilies .  there ,  too ,  after a fit of temper ,  i went to find comfort and to hide my hot face in the cool leaves and grass .  what joy it was to lose myself in that garden of flowers ,  to wander happily from spot to spot ,  until ,  coming suddenly upon a beautiful vine ,  i recognized it by its leaves and blossoms ,  and knew it was the vine which covered the tumble down summer house at the farther end of the garden !  here ,  also ,  were trailing clematis ,  drooping jessamine ,  and some rare sweet flowers called butterfly lilies ,  because their fragile petals resemble butterflies  wings .  but the roses they were loveliest of all .  never have i found in the greenhouses of the north such heart satisfying roses as the climbing roses of my southern home .  they used to hang in long festoons from our porch ,  filling the whole air with their fragrance ,  untainted by any earthy smell  and in the early morning ,  washed in the dew ,  they felt so soft ,  so pure ,  i could not help wondering if they did not resemble the asphodels of god s garden . \n",
      "\n",
      "the beginning of my life was simple and much like every other little life .  i came ,  i saw ,  i conquered ,  as the first baby in the family always does .  there was the usual amount of discussion as to a name for me .  the first baby in the family was not to be lightly named ,  every one was emphatic about that .  my father suggested the name of mildred campbell ,  an ancestor whom he highly esteemed ,  and he declined to take any further part in the discussion .  my mother solved the problem by giving it as her wish that i should be called after her mother ,  whose maiden name was helen everett .  but in the excitement of carrying me to church my father lost the name on the way ,  very naturally ,  since it was one in which he had declined to have a part .  when the minister asked him for it ,  he just remembered that it had been decided to call me after my grandmother ,  and he gave her name as helen adams . \n",
      "\n",
      "i am told that while i was still in long dresses i showed many signs of an eager ,  self asserting disposition .  everything that i saw other people do i insisted upon imitating .  at six months i could pipe out  how d ye ,   and one day i attracted every one s attention by saying  tea ,  tea ,  tea  quite plainly .  even after my illness i remembered one of the words i had learned in these early months .  it was the word  water ,   and i continued to make some sound for that word after all other speech was lost .  i ceased making the sound  wah wah  only when i learned to spell the word . \n",
      "\n",
      "they tell me i walked the day i was a year old .  my mother had just taken me out of the bath tub and was holding me in her lap ,  when i was suddenly attracted by the flickering shadows of leaves that danced in the sunlight on the smooth floor .  i slipped from my mother s lap and almost ran toward them .  the impulse gone ,  i fell down and cried for her to take me up in her arms . \n",
      "\n",
      "these happy days did not last long .  one brief spring ,  musical with the song of robin and mocking bird ,  one summer rich in fruit and roses ,  one autumn of gold and crimson sped by and left their gifts at the feet of an eager ,  delighted child .  then ,  in the dreary month of february ,  came the illness which closed my eyes and ears and plunged me into the unconsciousness of a new born baby .  they called it acute congestion of the stomach and brain .  the doctor thought i could not live .  early one morning ,  however ,  the fever left me as suddenly and mysteriously as it had come .  there was great rejoicing in the family that morning ,  but no one ,  not even the doctor ,  knew that i should never see or hear again . \n",
      "\n",
      "i fancy i still have confused recollections of that illness .  i especially remember the tenderness with which my mother tried to soothe me in my waling hours of fret and pain ,  and the agony and bewilderment with which i awoke after a tossing half sleep ,  and turned my eyes ,  so dry and hot ,  to the wall away from the once loved light ,  which came to me dim and yet more dim each day .  but ,  except for these fleeting memories ,  if ,  indeed ,  they be memories ,  it all seems very unreal ,  like a nightmare .  gradually i got used to the silence and darkness that surrounded me and forgot that it had ever been different ,  until she came my teacher who was to set my spirit free .  but during the first nineteen months of my life i had caught glimpses of broad ,  green fields ,  a luminous sky ,  trees and flowers which the darkness that followed could not wholly blot out .  if we have once seen ,   the day is ours ,  and what the day has shown .  \n",
      "\n"
     ]
    }
   ],
   "source": [
    "print(cleaning_text(corpus, [\".\",\",\",\"!\",\"?\"],\"([^a-zA-Z0-9.,?!\\n])\"))"
   ]
  },
  {
   "cell_type": "markdown",
   "id": "25fbe8b9",
   "metadata": {},
   "source": [
    "# mecab 설치\n",
    "* window에서 설치시\n",
    "\n",
    "    pip install을 이용해서 '[eunjeon](http://eunjeon.blogspot.com/)'을 설치\n",
    "    \n",
    "    pip install konlpy\n",
    "\n",
    "    프롬프트에서 pip install eunjeon 후\n",
    "    \n",
    "```python\n",
    "from eunjeon import Mecab\n",
    "\n",
    "```\n",
    "\n",
    "\n",
    "* 코랩에서 사용시(매 사용시마다 설치과정 반복 필요)\n",
    "\n",
    "```python\n",
    ">>> !git clone https://github.com/SOMJANG/Mecab-ko-for-Google-Colab.git\n",
    ">>> ls\n",
    ">>> cd Mecab-ko-for-Google-Colab/\n",
    ">>> ls\n",
    ">>> !bash install_mecab-ko_on_colab190912.sh\n",
    "```\n",
    "```python\n",
    "from konlpy.tag import Mecab\n",
    "```"
   ]
  },
  {
   "cell_type": "code",
   "execution_count": 12,
   "id": "c28412d9",
   "metadata": {},
   "outputs": [],
   "source": [
    "from eunjeon import Mecab"
   ]
  },
  {
   "cell_type": "code",
   "execution_count": 17,
   "id": "69dc93de",
   "metadata": {},
   "outputs": [],
   "source": [
    "mecab = Mecab()"
   ]
  },
  {
   "cell_type": "code",
   "execution_count": 18,
   "id": "eb408b65",
   "metadata": {},
   "outputs": [
    {
     "name": "stdout",
     "output_type": "stream",
     "text": [
      "['자연어', '처리', '가', '너무', '재밌', '어서', '밥', '먹', '는', '것', '도', '가끔', '까먹', '어요']\n"
     ]
    }
   ],
   "source": [
    "print(mecab.morphs('자연어처리가너무재밌어서밥먹는것도가끔까먹어요'))"
   ]
  },
  {
   "cell_type": "code",
   "execution_count": null,
   "id": "08b8825d",
   "metadata": {},
   "outputs": [],
   "source": []
  }
 ],
 "metadata": {
  "kernelspec": {
   "display_name": "tfgpu",
   "language": "python",
   "name": "tfgpu"
  },
  "language_info": {
   "codemirror_mode": {
    "name": "ipython",
    "version": 3
   },
   "file_extension": ".py",
   "mimetype": "text/x-python",
   "name": "python",
   "nbconvert_exporter": "python",
   "pygments_lexer": "ipython3",
   "version": "3.7.10"
  }
 },
 "nbformat": 4,
 "nbformat_minor": 5
}
